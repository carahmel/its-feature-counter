{
 "cells": [
  {
   "cell_type": "code",
   "execution_count": null,
   "id": "b1c41791-c664-4d2e-9f75-f3a2043fcf7c",
   "metadata": {},
   "outputs": [],
   "source": [
    "# import libraries\n",
    "import geopandas as gpd\n",
    "import time\n",
    "\n",
    "# URL to json source file\n",
    "bornes_json_file = \"https://data.geo.admin.ch/ch.bfe.ladestellen-elektromobilitaet/data/ch.bfe.ladestellen-elektromobilitaet_fr.json\"\n",
    "\n",
    "# path to lausanne perimeter\n",
    "lausanne_json_file = \"resources/limites_lausanne_2056.geojson\"\n",
    "\n",
    "# load data \n",
    "lausanne = gpd.read_file(lausanne_json_file) \n",
    "bornes = gpd.read_file(bornes_json_file) # data in EPSG:4326\n",
    "bornes = bornes.to_crs(lausanne.crs) # ensure both datasets share the same CRS\n",
    "\n",
    "# spatial join to identify charging stations within lausanne\n",
    "bornesLS = gpd.sjoin(bornes, lausanne, how='inner')\n",
    "\n",
    "# time stamp\n",
    "now = time.strftime(\"%Y-%m-%d %H:%M:%S %Z\", time.localtime())\n",
    "\n",
    "# print resuts to console\n",
    "out = {'Available': len(bornesLS[bornesLS['Availability']== \"Available\"]),\n",
    "     'Occupied': len(bornesLS[bornesLS['Availability']== \"Occupied\"]),\n",
    "     'OutOfService': len(bornesLS[bornesLS['Availability']== \"Out of service\"]),\n",
    "     'Unknown': len(bornesLS[bornesLS['Availability']== \"Unknown\"]),\n",
    "     'TOTAL': len(bornesLS),\n",
    "     'generatedOn': now}\n",
    "\n",
    "print(\"# Available:\", len(bornesLS[bornesLS['Availability']== \"Available\"]))\n",
    "print(\"# Occupied:\", len(bornesLS[bornesLS['Availability']== \"Occupied\"]))\n",
    "print(\"# Out of service:\", len(bornesLS[bornesLS['Availability']== \"Out of service\"]))\n",
    "print(\"# Unknown:\", len(bornesLS[bornesLS['Availability']== \"Unknown\"]))\n",
    "print(\"TOTAL:\", len(bornesLS))\n",
    "print(f\"({now})\")"
   ]
  }
 ],
 "metadata": {
  "kernelspec": {
   "display_name": "Python 3 (ipykernel)",
   "language": "python",
   "name": "python3"
  },
  "language_info": {
   "codemirror_mode": {
    "name": "ipython",
    "version": 3
   },
   "file_extension": ".py",
   "mimetype": "text/x-python",
   "name": "python",
   "nbconvert_exporter": "python",
   "pygments_lexer": "ipython3",
   "version": "3.10.6"
  }
 },
 "nbformat": 4,
 "nbformat_minor": 5
}
